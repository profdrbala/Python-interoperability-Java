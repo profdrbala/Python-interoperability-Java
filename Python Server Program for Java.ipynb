{
 "cells": [
  {
   "cell_type": "code",
   "execution_count": 5,
   "id": "b66ed287",
   "metadata": {
    "scrolled": true
   },
   "outputs": [
    {
     "name": "stdout",
     "output_type": "stream",
     "text": [
      "Bala\n",
      "output-1:  2269.0\n"
     ]
    },
    {
     "name": "stderr",
     "output_type": "stream",
     "text": [
      "C:\\Users\\admin\\anaconda3\\lib\\site-packages\\numpy\\core\\fromnumeric.py:3438: FutureWarning: In a future version, DataFrame.mean(axis=None) will return a scalar mean over the entire DataFrame. To retain the old behavior, use 'frame.mean(axis=0)' or just 'frame.mean()'\n",
      "  return mean(axis=axis, dtype=dtype, out=out, **kwargs)\n"
     ]
    },
    {
     "name": "stdout",
     "output_type": "stream",
     "text": [
      "output-2:  area       2000.680851\n",
      "rooms         3.170213\n",
      "price    340412.659574\n",
      "dtype: float64\n",
      "output-1:  1888.0\n",
      "output-2:  area        786.202619\n",
      "rooms         0.752843\n",
      "price    123702.536006\n",
      "dtype: float64\n",
      "output-2:  area        786.202619\n",
      "rooms         0.752843\n",
      "price    123702.536006\n",
      "dtype: float64\n",
      "output-0:  exit()\n"
     ]
    },
    {
     "ename": "SystemExit",
     "evalue": "You have stoped",
     "output_type": "error",
     "traceback": [
      "An exception has occurred, use %tb to see the full traceback.\n",
      "\u001b[1;31mSystemExit\u001b[0m\u001b[1;31m:\u001b[0m You have stoped\n"
     ]
    },
    {
     "name": "stderr",
     "output_type": "stream",
     "text": [
      "C:\\Users\\admin\\anaconda3\\lib\\site-packages\\IPython\\core\\interactiveshell.py:3377: UserWarning: To exit: use 'exit', 'quit', or Ctrl-D.\n",
      "  warn(\"To exit: use 'exit', 'quit', or Ctrl-D.\", stacklevel=1)\n"
     ]
    }
   ],
   "source": [
    "#Server prg\n",
    "import socket\n",
    "import math\n",
    "import datetime\n",
    "import random\n",
    "import numpy as np\n",
    "import pandas as pd\n",
    "from scipy import constants\n",
    "import sys, os\n",
    "def is_float(a_string):\n",
    "    try:\n",
    "        float(a_string)\n",
    "        return True\n",
    "    except ValueError:\n",
    "        return False\n",
    "try:\n",
    "    s=socket.socket(socket.AF_INET, socket.SOCK_STREAM)\n",
    "    s.bind((socket.gethostname() ,1234))  \n",
    "    print(socket.gethostname())\n",
    "    s.listen(5)\n",
    "    while True:\n",
    "        clt,adr=s.accept()\n",
    "        msg=clt.recv(4096)\n",
    "        code=msg.decode(\"utf-8\")\n",
    "        \n",
    "        if(code==\"exit()\" or code==\"quit()\"):\n",
    "            print(\"output-0: \",code)\n",
    "            sys.exit(\"You have stoped\") \n",
    "            clt.close()\n",
    "        elif(code.endswith(\".csv\")):\n",
    "            df = pd.read_csv(code)\n",
    "            clt.send(\"pandas dataframe object with 'df' loaded.\".encode())\n",
    "        else:\n",
    "            exec(f\"out= \"+code) #, globlsparam,  localsparam)\n",
    "            output=str(out)\n",
    "            \n",
    "            if(output.isnumeric()):\n",
    "                clt.send(bytes(out))\n",
    "                print(\"output-1: \",out)\n",
    "            elif (is_float(output)):\n",
    "                clt.send(output.encode())\n",
    "                print(\"output-1: \",output)\n",
    "            else:\n",
    "                clt.send(output.encode())\n",
    "                print(\"output-2: \",output)\n",
    "except Exception as err:\n",
    "    print(f\"Unexpected {err=}\")\n",
    "    error=str('Runtime Error: ') + str(err)\n",
    "    clt.send(error.encode())\n",
    "    clt.close()\n",
    "    raise    "
   ]
  },
  {
   "cell_type": "code",
   "execution_count": null,
   "id": "71cf0a61",
   "metadata": {},
   "outputs": [],
   "source": [
    "#Server prg\n",
    "import socket\n",
    "\n",
    "import sys, os\n",
    "try:\n",
    "    s=socket.socket(socket.AF_INET, socket.SOCK_STREAM)\n",
    "    s.bind((socket.gethostname() ,1234))  \n",
    "    print(socket.gethostname())\n",
    "    s.listen(5)\n",
    "    print('listen')\n",
    "    while True:\n",
    "        clt,adr=s.accept()\n",
    "       # print(f\"Connection to {adr}established\")  \n",
    "       #clt.send(bytes(\"Welcome, you are connected\",\"utf-8\")) \n",
    "        #clt.send(\"Welcome, you are connected\") \n",
    "        \n",
    "        msg=clt.recv(4096)\n",
    "        code=msg.decode(\"utf-8\")\n",
    "        \n",
    "        if(code==\"exit()\" or code==\"quit()\"):\n",
    "            print(\"output-0: \",code)\n",
    "            sys.exit(\"You have stoped\") \n",
    "            clt.close()\n",
    "        else:\n",
    "            #exec(\"prog=\"+ins)\n",
    "            #globlsparam = {'__builtins__' : None}\n",
    "            #localsparam = {'print': print, 'dir': dir,'min':min}    \n",
    "            print(\"output-00\")\n",
    "            exec(f\"out=\"+code) #, globlsparam,  localsparam)\n",
    "            #result=bytes(prog, 'utf-8')\n",
    "            print(\"output-111: \",out)\n",
    "            output=str(out)\n",
    "            \n",
    "            #print('output is',output)\n",
    "            #print(output.isnumeric())\n",
    "            if(output.isnumeric()):\n",
    "                clt.send(bytes(out))\n",
    "                print(\"output-1: \",out)\n",
    "            else:\n",
    "                #clt.send(bytes(output,\"utf-8\"))\n",
    "                #compiled_code = compile(output, \"<string>\", \"exec\")\n",
    "                #exec(compiled_code)\n",
    "                \n",
    "                clt.send(output.encode())\n",
    "                print(\"output-2: \",output)\n",
    "except (NameError,TypeError,ValueError) as err:\n",
    "    print(f\"Unexpected {err=}\")\n",
    "    error=str(err)\n",
    "    clt.send(error.encode()) \n",
    "    raise"
   ]
  },
  {
   "cell_type": "code",
   "execution_count": null,
   "id": "97ac5d5e",
   "metadata": {},
   "outputs": [],
   "source": [
    "import subprocess\n",
    "\n",
    "list_files = subprocess.run([\"ls\", \"-l\"])\n",
    "print(\"The exit code was: %d\" % list_files.returncode)"
   ]
  },
  {
   "cell_type": "code",
   "execution_count": null,
   "id": "7c9ec3c0",
   "metadata": {},
   "outputs": [],
   "source": [
    "import os\n",
    "val=os.system(\"echo 'Hello from the other side!'\")\n",
    "val"
   ]
  },
  {
   "cell_type": "code",
   "execution_count": null,
   "id": "20e40973",
   "metadata": {},
   "outputs": [],
   "source": [
    "import subprocess\n",
    "\n",
    "ins = input(\"Enter the host or IP you want to check:\")\n",
    "# Enter \"google.com\", without quotes.\n",
    "proc = subprocess.run(\n",
    "    ['ping',ins],\n",
    "    stdout=subprocess.PIPE,\n",
    "    stderr=subprocess.PIPE,\n",
    "    text=True\n",
    ")\n",
    "# The function blocks until the shell command is completed.\n",
    "print(proc.stdout)"
   ]
  },
  {
   "cell_type": "code",
   "execution_count": null,
   "id": "b88a2b7a",
   "metadata": {},
   "outputs": [],
   "source": [
    "exec(\"prog=(5+10)\")\n",
    "print(prog)"
   ]
  },
  {
   "cell_type": "code",
   "execution_count": null,
   "id": "4a69e0de",
   "metadata": {},
   "outputs": [],
   "source": [
    "exec(\"name = input('Your name: '); print(f'Hello, {name}!')\")"
   ]
  },
  {
   "cell_type": "code",
   "execution_count": null,
   "id": "83d42325",
   "metadata": {},
   "outputs": [],
   "source": [
    "codeInString = 'a = 8\\nb=7\\nsum=a+b\\nprint(\"sum =\",sum)'\n",
    "codeObject = compile(codeInString, 'sumstring', 'exec')\n",
    "\n",
    "exec(codeObject)"
   ]
  },
  {
   "cell_type": "code",
   "execution_count": null,
   "id": "c9f956d0",
   "metadata": {},
   "outputs": [],
   "source": [
    "# get a multi-line program as input\n",
    "program = input('Enter a program:')\n",
    "\n",
    "# compile the program in execution mode\n",
    "b = compile(program, 'something', 'exec')\n",
    "\n",
    "# execute the program\n",
    "exec(b)"
   ]
  },
  {
   "cell_type": "code",
   "execution_count": null,
   "id": "075549dd",
   "metadata": {},
   "outputs": [],
   "source": [
    "mycode='''from math import *\n",
    "a = sqrt(9)\n",
    "print(a)'''\n",
    "\n",
    "exec(mycode)"
   ]
  },
  {
   "cell_type": "code",
   "execution_count": null,
   "id": "083995e2",
   "metadata": {},
   "outputs": [],
   "source": [
    "from math import *\n",
    "\n",
    "mycode='''a = sqrt(9)\n",
    "print(a)'''\n",
    "\n",
    "exec(mycode, {'sqrt': sqrt})"
   ]
  },
  {
   "cell_type": "code",
   "execution_count": null,
   "id": "55289d10",
   "metadata": {},
   "outputs": [],
   "source": [
    "def myfunc1():\n",
    "    print('myfunc1')\n",
    "\n",
    "def myfunc2():\n",
    "    print('myfunc2')\n",
    "\n",
    "globlsparam = {'__builtins__' : None}\n",
    "localsparam = {'myfunc1': myfunc1,'print': print, 'dir': dir}\n",
    "\n",
    "exec('myfunc1', globlsparam, localsparam)"
   ]
  },
  {
   "cell_type": "code",
   "execution_count": null,
   "id": "e51aab6c",
   "metadata": {},
   "outputs": [],
   "source": [
    "exec('print(dir())')"
   ]
  },
  {
   "cell_type": "code",
   "execution_count": null,
   "id": "6ef6e968",
   "metadata": {},
   "outputs": [],
   "source": [
    "a = 'hello world!'.upper()\n",
    "a"
   ]
  },
  {
   "cell_type": "code",
   "execution_count": null,
   "id": "5b6e19e2",
   "metadata": {},
   "outputs": [],
   "source": [
    "dict.clear()"
   ]
  },
  {
   "cell_type": "code",
   "execution_count": null,
   "id": "d078f609",
   "metadata": {},
   "outputs": [],
   "source": [
    "print(globals())"
   ]
  },
  {
   "cell_type": "code",
   "execution_count": null,
   "id": "a59c8146",
   "metadata": {},
   "outputs": [],
   "source": [
    "print(locals())"
   ]
  },
  {
   "cell_type": "code",
   "execution_count": null,
   "id": "d566e6f6",
   "metadata": {},
   "outputs": [],
   "source": [
    "test = object()\n",
    "\n",
    "print(type(test))\n",
    "print(dir(test))"
   ]
  },
  {
   "cell_type": "code",
   "execution_count": null,
   "id": "67e74796",
   "metadata": {},
   "outputs": [],
   "source": [
    "exec('sorted([2,1,5,3,4])')"
   ]
  },
  {
   "cell_type": "code",
   "execution_count": null,
   "id": "b28a5974",
   "metadata": {},
   "outputs": [],
   "source": [
    "reversed(\"baladhandayuthapani\")"
   ]
  },
  {
   "cell_type": "code",
   "execution_count": null,
   "id": "65d36918",
   "metadata": {},
   "outputs": [],
   "source": [
    "exec(\"name = input('Your name: ')\\nprint(f'Hello, {name}!')\")"
   ]
  },
  {
   "cell_type": "code",
   "execution_count": null,
   "id": "cc2191b1",
   "metadata": {},
   "outputs": [],
   "source": []
  }
 ],
 "metadata": {
  "kernelspec": {
   "display_name": "Python 3 (ipykernel)",
   "language": "python",
   "name": "python3"
  },
  "language_info": {
   "codemirror_mode": {
    "name": "ipython",
    "version": 3
   },
   "file_extension": ".py",
   "mimetype": "text/x-python",
   "name": "python",
   "nbconvert_exporter": "python",
   "pygments_lexer": "ipython3",
   "version": "3.9.12"
  }
 },
 "nbformat": 4,
 "nbformat_minor": 5
}

{
 "cells": [
  {
   "cell_type": "code",
   "execution_count": 5,
   "id": "b66ed287",
   "metadata": {
    "scrolled": true
   },
   "outputs": [
    {
     "name": "stdout",
     "output_type": "stream",
     "text": [
      "Bala\n",
      "output-1:  2269.0\n"
     ]
    },
    {
     "name": "stderr",
     "output_type": "stream",
     "text": [
      "C:\\Users\\admin\\anaconda3\\lib\\site-packages\\numpy\\core\\fromnumeric.py:3438: FutureWarning: In a future version, DataFrame.mean(axis=None) will return a scalar mean over the entire DataFrame. To retain the old behavior, use 'frame.mean(axis=0)' or just 'frame.mean()'\n",
      "  return mean(axis=axis, dtype=dtype, out=out, **kwargs)\n"
     ]
    },
    {
     "name": "stdout",
     "output_type": "stream",
     "text": [
      "output-2:  area       2000.680851\n",
      "rooms         3.170213\n",
      "price    340412.659574\n",
      "dtype: float64\n",
      "output-1:  1888.0\n",
      "output-2:  area        786.202619\n",
      "rooms         0.752843\n",
      "price    123702.536006\n",
      "dtype: float64\n",
      "output-2:  area        786.202619\n",
      "rooms         0.752843\n",
      "price    123702.536006\n",
      "dtype: float64\n",
      "output-0:  exit()\n"
     ]
    },
    {
     "ename": "SystemExit",
     "evalue": "You have stoped",
     "output_type": "error",
     "traceback": [
      "An exception has occurred, use %tb to see the full traceback.\n",
      "\u001b[1;31mSystemExit\u001b[0m\u001b[1;31m:\u001b[0m You have stoped\n"
     ]
    },
    {
     "name": "stderr",
     "output_type": "stream",
     "text": [
      "C:\\Users\\admin\\anaconda3\\lib\\site-packages\\IPython\\core\\interactiveshell.py:3377: UserWarning: To exit: use 'exit', 'quit', or Ctrl-D.\n",
      "  warn(\"To exit: use 'exit', 'quit', or Ctrl-D.\", stacklevel=1)\n"
     ]
    }
   ],
   "source": [
    "#Server prg\n",
    "import socket\n",
    "import math\n",
    "import datetime\n",
    "import random\n",
    "import numpy as np\n",
    "import pandas as pd\n",
    "from scipy import constants\n",
    "import sys, os\n",
    "def is_float(a_string):\n",
    "    try:\n",
    "        float(a_string)\n",
    "        return True\n",
    "    except ValueError:\n",
    "        return False\n",
    "try:\n",
    "    s=socket.socket(socket.AF_INET, socket.SOCK_STREAM)\n",
    "    s.bind((socket.gethostname() ,1234))  \n",
    "    print(socket.gethostname())\n",
    "    s.listen(5)\n",
    "    while True:\n",
    "        clt,adr=s.accept()\n",
    "        msg=clt.recv(4096)\n",
    "        code=msg.decode(\"utf-8\")\n",
    "        \n",
    "        if(code==\"exit()\" or code==\"quit()\"):\n",
    "            print(\"output-0: \",code)\n",
    "            sys.exit(\"You have stoped\") \n",
    "            clt.close()\n",
    "        elif(code.endswith(\".csv\")):\n",
    "            df = pd.read_csv(code)\n",
    "            clt.send(\"pandas dataframe object with 'df' loaded.\".encode())\n",
    "        else:\n",
    "            exec(f\"out= \"+code) #, globlsparam,  localsparam)\n",
    "            output=str(out)\n",
    "            \n",
    "            if(output.isnumeric()):\n",
    "                clt.send(bytes(out))\n",
    "                print(\"output-1: \",out)\n",
    "            elif (is_float(output)):\n",
    "                clt.send(output.encode())\n",
    "                print(\"output-1: \",output)\n",
    "            else:\n",
    "                clt.send(output.encode())\n",
    "                print(\"output-2: \",output)\n",
    "except Exception as err:\n",
    "    print(f\"Unexpected {err=}\")\n",
    "    error=str('Runtime Error: ') + str(err)\n",
    "    clt.send(error.encode())\n",
    "    clt.close()\n",
    "    raise    "
   ]
  }
 ],
 "metadata": {
  "kernelspec": {
   "display_name": "Python 3 (ipykernel)",
   "language": "python",
   "name": "python3"
  },
  "language_info": {
   "codemirror_mode": {
    "name": "ipython",
    "version": 3
   },
   "file_extension": ".py",
   "mimetype": "text/x-python",
   "name": "python",
   "nbconvert_exporter": "python",
   "pygments_lexer": "ipython3",
   "version": "3.9.12"
  }
 },
 "nbformat": 4,
 "nbformat_minor": 5
}
